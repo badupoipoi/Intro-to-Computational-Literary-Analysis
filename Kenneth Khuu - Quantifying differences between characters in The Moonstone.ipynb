{
 "cells": [
  {
   "cell_type": "markdown",
   "metadata": {},
   "source": [
    "# Quantifying differences between characters in _The Moonstone_\n",
    "\n",
    "## Kenneth Khuu"
   ]
  },
  {
   "cell_type": "code",
   "execution_count": 44,
   "metadata": {},
   "outputs": [],
   "source": [
    "import numpy as np\n",
    "import pandas as pd\n",
    "import matplotlib.pyplot as plt\n",
    "\n",
    "from sklearn.decomposition import LatentDirichletAllocation, PCA\n",
    "from sklearn.feature_extraction.text import CountVectorizer, TfidfVectorizer, TfidfTransformer\n",
    "\n",
    "import nltk\n",
    "from nltk import sent_tokenize, word_tokenize\n",
    "from nltk.sentiment import SentimentIntensityAnalyzer, SentimentAnalyzer\n",
    "\n",
    "import collections\n",
    "from collections import Counter"
   ]
  },
  {
   "cell_type": "markdown",
   "metadata": {},
   "source": [
    "### Introduction\n",
    "\n",
    "As we read through _The Moonstone,_ we subconsciously notice the differences between narrators, their speech, and their narratives. Through speech patterns, vocabulary, polarity, (or any combination of features such as these) it is relatively easy for us to be presented a passage out-of-context and be able to decipher who the quote belongs to. The goal of my project to see if we can use computational literary analysis to quantify the differences between each narrator in _The Moonstone_ and have it recreate what human readers are able to do instinctively. If possible, how well will this work and what combination of features is best?\n",
    "\n",
    "Before any literary analysis is done, we need to clean and recreate a corpus for _The Moonstone_ to make calculations possible."
   ]
  },
  {
   "cell_type": "code",
   "execution_count": 7,
   "metadata": {},
   "outputs": [],
   "source": [
    "moonstone = open('moonstone.md', encoding = 'utf8').read()"
   ]
  },
  {
   "cell_type": "code",
   "execution_count": 8,
   "metadata": {},
   "outputs": [],
   "source": [
    "moonstone_parts = moonstone.split('\\n##')\n",
    "moonstone_parts2 = moonstone.split('\\n## ')"
   ]
  },
  {
   "cell_type": "code",
   "execution_count": 9,
   "metadata": {},
   "outputs": [],
   "source": [
    "prologue = str(moonstone_parts[1:5])\n",
    "betteredge = str(moonstone_parts[5:29])\n",
    "clack = str(moonstone_parts2[3])\n",
    "bruff = str(moonstone_parts2[4])\n",
    "blake = str(moonstone_parts2[5])\n",
    "jennings = str(moonstone_parts2[6])\n",
    "blake2 = str(moonstone_parts2[7])\n",
    "cuff = str(moonstone_parts2[8])\n",
    "candy = str(moonstone_parts2[9])\n",
    "betteredge2 = str(moonstone_parts2[10])\n",
    "epilogue = str(moonstone_parts2[11])"
   ]
  },
  {
   "cell_type": "code",
   "execution_count": 10,
   "metadata": {},
   "outputs": [],
   "source": [
    "#Final corpus in both list and string form to cover all use cases\n",
    "full_moonstone = [prologue, betteredge, clack, bruff, blake, jennings, blake2, cuff, candy, betteredge2, epilogue]\n",
    "full_moonstone_str = str([prologue, betteredge, clack, bruff, blake, jennings, blake2, cuff, candy, betteredge2, epilogue])\n",
    "moonstone_sentences = [nltk.sent_tokenize(text) for text in full_moonstone]"
   ]
  },
  {
   "cell_type": "code",
   "execution_count": 11,
   "metadata": {},
   "outputs": [],
   "source": [
    "#Creating tokenized Texts with titles for each narrative\n",
    "prologue_text = nltk.Text(nltk.word_tokenize(prologue), name = \"Prologue\")\n",
    "betteredge_text = nltk.Text(nltk.word_tokenize(betteredge), name = \"Betteredge's narrative\")\n",
    "clack_text = nltk.Text(nltk.word_tokenize(clack), name = \"Clack's narrative\")\n",
    "bruff_text = nltk.Text(nltk.word_tokenize(bruff), name = \"Bruff's narrative\")\n",
    "blake_text = nltk.Text(nltk.word_tokenize(blake), name = \"Blake's narrative\")\n",
    "jennings_text = nltk.Text(nltk.word_tokenize(jennings), name = \"Jennings' narrative\")\n",
    "blake2_text = nltk.Text(nltk.word_tokenize(blake2), name = \"Blake's second narrative\")\n",
    "cuff_text = nltk.Text(nltk.word_tokenize(cuff), name = \"Cuff's narrative\")\n",
    "candy_text = nltk.Text(nltk.word_tokenize(candy), name = \"Candy's narrative\")\n",
    "betteredge2_text = nltk.Text(nltk.word_tokenize(betteredge2), name = \"Betteredge's second narrative\")\n",
    "epilogue_text = nltk.Text(nltk.word_tokenize(epilogue), name = \"Epilogue\")"
   ]
  },
  {
   "cell_type": "markdown",
   "metadata": {},
   "source": [
    "### Type-token ratio /  vocabulary analysis"
   ]
  },
  {
   "cell_type": "markdown",
   "metadata": {},
   "source": [
    "A rather obvious choice for numerically analyzing narrators is by comparing type-token ratios (TTRs). A type-token ratio is given by a single value between 0 and 1 and helps us discern how complex someone's vocabulary is. A high TTR implies that the speaker has a high level of lexical variation while a low TTR implies that the narrator has a rather basic vocabulary (calculated to have a lower amount of unique words). \n",
    "\n",
    "Below is a function that helps us calculate type-token ratios as well as a simple list containing each narrator's TTRs."
   ]
  },
  {
   "cell_type": "code",
   "execution_count": 12,
   "metadata": {},
   "outputs": [],
   "source": [
    "#Function that tokenizes a string input and calculates its type-token ratio\n",
    "def type_token_ratio(text_string):\n",
    "    text_string = text_string.lower()\n",
    "    num_tokens = len(nltk.word_tokenize(text_string))\n",
    "    num_types = len(set(nltk.word_tokenize(text_string)))\n",
    "    return num_types / num_tokens"
   ]
  },
  {
   "cell_type": "code",
   "execution_count": 13,
   "metadata": {},
   "outputs": [
    {
     "data": {
      "text/plain": [
       "['Prologue: 0.35958005249343833',\n",
       " 'Betteredge: 0.12001403937819141',\n",
       " 'Clack: 0.11688132601560992',\n",
       " 'Bruff: 0.16493570722057369',\n",
       " 'Blake: 0.0916559741080491',\n",
       " 'Jennings: 0.14359003919760202',\n",
       " 'Blake #2: 0.16950499545867392',\n",
       " 'Cuff: 0.2293471981513576',\n",
       " 'Candy: 0.37003058103975534',\n",
       " 'Betteredge #2: 0.3783231083844581',\n",
       " 'Epilogue: 0.3043134151167392']"
      ]
     },
     "execution_count": 13,
     "metadata": {},
     "output_type": "execute_result"
    }
   ],
   "source": [
    "#Creates a new list with type/token ratio of each narrative\n",
    "ttrs = []\n",
    "ttrs.append('Prologue: ' + str(type_token_ratio(prologue)))\n",
    "ttrs.append('Betteredge: ' + str(type_token_ratio(betteredge)))\n",
    "ttrs.append('Clack: ' + str(type_token_ratio(clack)))\n",
    "ttrs.append('Bruff: ' + str(type_token_ratio(bruff)))\n",
    "ttrs.append('Blake: ' + str(type_token_ratio(blake)))\n",
    "ttrs.append('Jennings: ' + str(type_token_ratio(jennings)))\n",
    "ttrs.append('Blake #2: ' + str(type_token_ratio(blake2)))\n",
    "ttrs.append('Cuff: ' + str(type_token_ratio(cuff)))\n",
    "ttrs.append('Candy: ' + str(type_token_ratio(candy)))\n",
    "ttrs.append('Betteredge #2: ' + str(type_token_ratio(betteredge2)))\n",
    "ttrs.append('Epilogue: ' + str(type_token_ratio(epilogue)))\n",
    "ttrs"
   ]
  },
  {
   "cell_type": "markdown",
   "metadata": {},
   "source": [
    "After calculating the type-token ratio for each narrative, some of the results are interesting as they seem to be against our intuition. For example, Cuff's TTR is supposedly higher than Bruff's TTR (0.229 vs 0.165) which is somewhat surprising considering that Bruff is the family lawyer (and it is reasonable to assume that a lawyer would have the greatest lexicon out of all the main characters). Another interesting type-token ratio factoid is that while Blake's 2nd narrative has a higher TTR than his first, Betteredge's 2nd narrative has a TTR that is three times as high! (0.378 vs 0.12)\n",
    "\n",
    "To delve deeper into this, I defined a counter function below and created a new simple list containing the word count of each narrative (based off of collections' Counter function)."
   ]
  },
  {
   "cell_type": "code",
   "execution_count": 14,
   "metadata": {},
   "outputs": [],
   "source": [
    "#Counter function that strips punctuation and counts the number of tokens\n",
    "def counted(text_string):\n",
    "    lowered = text_string.lower()\n",
    "    lowered = lowered.replace('–', ' – ')\n",
    "    lowered = lowered.replace('*', ' ')\n",
    "    lowered = lowered.replace(',', ' ')\n",
    "    lowered = lowered.replace('“', ' ')\n",
    "    lowered = lowered.replace('”', ' ')\n",
    "    lowered = lowered.replace('’', ' ')\n",
    "    lowered = lowered.replace('–', ' ')\n",
    "    lowered = lowered.replace('.', ' ')\n",
    "    lowered = lowered.replace('\\\\n\\\\n', ' ')\n",
    "    lowered = lowered.replace('\\\\n', ' ')\n",
    "    tokens = nltk.word_tokenize(lowered)\n",
    "    counted = Counter(tokens)\n",
    "    return counted"
   ]
  },
  {
   "cell_type": "code",
   "execution_count": 15,
   "metadata": {},
   "outputs": [
    {
     "data": {
      "text/plain": [
       "['Prologue: 723',\n",
       " 'Betteredge: 5589',\n",
       " 'Clack: 3825',\n",
       " 'Bruff: 1902',\n",
       " 'Blake: 4191',\n",
       " 'Jennings: 2326',\n",
       " 'Blake #2: 1395',\n",
       " 'Cuff: 1150',\n",
       " 'Candy: 350',\n",
       " 'Betteredge #2: 352',\n",
       " 'Epilogue: 760']"
      ]
     },
     "execution_count": 15,
     "metadata": {},
     "output_type": "execute_result"
    }
   ],
   "source": [
    "#Length of each text or text segment, in words.\n",
    "word_counts = []\n",
    "word_counts.append('Prologue: ' + str(len(counted(prologue))))\n",
    "word_counts.append('Betteredge: ' + str(len(counted(betteredge))))\n",
    "word_counts.append('Clack: ' + str(len(counted(clack))))\n",
    "word_counts.append('Bruff: ' + str(len(counted(bruff))))\n",
    "word_counts.append('Blake: ' + str(len(counted(blake))))\n",
    "word_counts.append('Jennings: ' + str(len(counted(jennings))))\n",
    "word_counts.append('Blake #2: ' + str(len(counted(blake2))))\n",
    "word_counts.append('Cuff: ' + str(len(counted(cuff))))\n",
    "word_counts.append('Candy: ' + str(len(counted(candy))))\n",
    "word_counts.append('Betteredge #2: ' + str(len(counted(betteredge2))))\n",
    "word_counts.append('Epilogue: ' + str(len(counted(epilogue))))\n",
    "word_counts"
   ]
  },
  {
   "cell_type": "markdown",
   "metadata": {},
   "source": [
    "As we can see, Betteredge's second narrative is one of the shortest in _The Moonstone!_ It is likely that this had a large part in the tripling of the type-token ratio between his first and second narrative. Some of the other narratives with the high TTRs include the \"non-traditional\" narratives: the prologue (which is from the family papers), the epilogue (which is written in three parts by three different people), and Mr. Candy's narrative (a letter to Franklin Blake)."
   ]
  },
  {
   "cell_type": "markdown",
   "metadata": {},
   "source": [
    "### Sentiment analysis with VADER"
   ]
  },
  {
   "cell_type": "markdown",
   "metadata": {},
   "source": [
    "A very nifty thing about computational literary analysis is that we can use the idea of \"sentiment analysis\" to analyze the  words in a sentence and calculate a measure of its sentiment. VADER is a lexicon and rule-based sentiment analysis tool that calculates the sentiment of individual words and returns a compound score based off the sum of each word and VADER's own algorithm and ruleset. One issue with VADER is that it lacks the ability to understand contextual clues that can vastly change how positive or negative a sentence is in reality. For example, ironic statements tend to use \"positive\" words when they are actually stating something negative (and vice versa). However, given the length of each narrative, I believe that VADER will do a fine job overall despite this issue.\n",
    "\n",
    "The following code and function returns a normalized, weighted composite score:"
   ]
  },
  {
   "cell_type": "code",
   "execution_count": 71,
   "metadata": {},
   "outputs": [],
   "source": [
    "sentiment_analyzer = SentimentIntensityAnalyzer()"
   ]
  },
  {
   "cell_type": "code",
   "execution_count": 72,
   "metadata": {},
   "outputs": [
    {
     "data": {
      "text/plain": [
       "[{'neg': 0.081, 'neu': 0.844, 'pos': 0.075, 'compound': -0.9863},\n",
       " {'neg': 0.079, 'neu': 0.822, 'pos': 0.1, 'compound': 1.0},\n",
       " {'neg': 0.095, 'neu': 0.76, 'pos': 0.144, 'compound': 1.0},\n",
       " {'neg': 0.078, 'neu': 0.809, 'pos': 0.113, 'compound': 0.9999},\n",
       " {'neg': 0.09, 'neu': 0.802, 'pos': 0.108, 'compound': 1.0},\n",
       " {'neg': 0.073, 'neu': 0.815, 'pos': 0.112, 'compound': 1.0},\n",
       " {'neg': 0.066, 'neu': 0.859, 'pos': 0.075, 'compound': 0.9974},\n",
       " {'neg': 0.062, 'neu': 0.85, 'pos': 0.088, 'compound': 0.9989},\n",
       " {'neg': 0.091, 'neu': 0.794, 'pos': 0.116, 'compound': 0.9855},\n",
       " {'neg': 0.044, 'neu': 0.86, 'pos': 0.096, 'compound': 0.9913},\n",
       " {'neg': 0.061, 'neu': 0.838, 'pos': 0.101, 'compound': 0.9983}]"
      ]
     },
     "execution_count": 72,
     "metadata": {},
     "output_type": "execute_result"
    }
   ],
   "source": [
    "[sentiment_analyzer.polarity_scores(text) for text in full_moonstone]"
   ]
  },
  {
   "cell_type": "code",
   "execution_count": 73,
   "metadata": {},
   "outputs": [
    {
     "data": {
      "text/plain": [
       "{'neg': 0.081, 'neu': 0.844, 'pos': 0.075, 'compound': -0.9863}"
      ]
     },
     "execution_count": 73,
     "metadata": {},
     "output_type": "execute_result"
    }
   ],
   "source": [
    "#Testing sentiment analysis on a narrative as a whole\n",
    "sentiment_analyzer.polarity_scores(prologue)"
   ]
  },
  {
   "cell_type": "code",
   "execution_count": 74,
   "metadata": {},
   "outputs": [
    {
     "data": {
      "text/plain": [
       "{'neg': 0.078, 'neu': 0.851, 'pos': 0.071, 'compound': -0.9879}"
      ]
     },
     "execution_count": 74,
     "metadata": {},
     "output_type": "execute_result"
    }
   ],
   "source": [
    "#Testing sentiment analysis on a narrative as a sum of its sentences\n",
    "sentiment_analyzer.polarity_scores(str(moonstone_sentences[0]))"
   ]
  },
  {
   "cell_type": "markdown",
   "metadata": {},
   "source": [
    "As we can see, VADER does return a slightly different score when looking at a narrative as a whole vs. a narrative sentence by sentence. However, the difference is slight and so I will be calculating compound score by narrative for the sake of simplicity."
   ]
  },
  {
   "cell_type": "code",
   "execution_count": 75,
   "metadata": {},
   "outputs": [],
   "source": [
    "#Function that returns only the compound polarity score\n",
    "def get_compound_sentiment(text):\n",
    "    return sentiment_analyzer.polarity_scores(text)['compound']"
   ]
  },
  {
   "cell_type": "code",
   "execution_count": 76,
   "metadata": {},
   "outputs": [],
   "source": [
    "#List of narrators to be used as column labels and plot labels\n",
    "narrators_labels = ['prologue', 'betteredge', 'clack', 'bruff', 'blake', 'jennings', 'blake2', 'cuff', 'candy', 'betteredge2', 'epilogue']"
   ]
  },
  {
   "cell_type": "code",
   "execution_count": 77,
   "metadata": {},
   "outputs": [
    {
     "data": {
      "text/html": [
       "<div>\n",
       "<style scoped>\n",
       "    .dataframe tbody tr th:only-of-type {\n",
       "        vertical-align: middle;\n",
       "    }\n",
       "\n",
       "    .dataframe tbody tr th {\n",
       "        vertical-align: top;\n",
       "    }\n",
       "\n",
       "    .dataframe thead th {\n",
       "        text-align: right;\n",
       "    }\n",
       "</style>\n",
       "<table border=\"1\" class=\"dataframe\">\n",
       "  <thead>\n",
       "    <tr style=\"text-align: right;\">\n",
       "      <th></th>\n",
       "      <th>Compound polarity</th>\n",
       "    </tr>\n",
       "  </thead>\n",
       "  <tbody>\n",
       "    <tr>\n",
       "      <th>prologue</th>\n",
       "      <td>-0.9863</td>\n",
       "    </tr>\n",
       "    <tr>\n",
       "      <th>betteredge</th>\n",
       "      <td>1.0000</td>\n",
       "    </tr>\n",
       "    <tr>\n",
       "      <th>clack</th>\n",
       "      <td>1.0000</td>\n",
       "    </tr>\n",
       "    <tr>\n",
       "      <th>bruff</th>\n",
       "      <td>0.9999</td>\n",
       "    </tr>\n",
       "    <tr>\n",
       "      <th>blake</th>\n",
       "      <td>1.0000</td>\n",
       "    </tr>\n",
       "    <tr>\n",
       "      <th>jennings</th>\n",
       "      <td>1.0000</td>\n",
       "    </tr>\n",
       "    <tr>\n",
       "      <th>blake2</th>\n",
       "      <td>0.9974</td>\n",
       "    </tr>\n",
       "    <tr>\n",
       "      <th>cuff</th>\n",
       "      <td>0.9989</td>\n",
       "    </tr>\n",
       "    <tr>\n",
       "      <th>candy</th>\n",
       "      <td>0.9855</td>\n",
       "    </tr>\n",
       "    <tr>\n",
       "      <th>betteredge2</th>\n",
       "      <td>0.9913</td>\n",
       "    </tr>\n",
       "    <tr>\n",
       "      <th>epilogue</th>\n",
       "      <td>0.9983</td>\n",
       "    </tr>\n",
       "  </tbody>\n",
       "</table>\n",
       "</div>"
      ],
      "text/plain": [
       "             Compound polarity\n",
       "prologue               -0.9863\n",
       "betteredge              1.0000\n",
       "clack                   1.0000\n",
       "bruff                   0.9999\n",
       "blake                   1.0000\n",
       "jennings                1.0000\n",
       "blake2                  0.9974\n",
       "cuff                    0.9989\n",
       "candy                   0.9855\n",
       "betteredge2             0.9913\n",
       "epilogue                0.9983"
      ]
     },
     "execution_count": 77,
     "metadata": {},
     "output_type": "execute_result"
    }
   ],
   "source": [
    "compound_values = pd.DataFrame([get_compound_sentiment(text) for text in full_moonstone], index = narrators_labels)\n",
    "compound_values = compound_values.rename(columns = {0: 'Compound polarity'})\n",
    "compound_values"
   ]
  },
  {
   "cell_type": "code",
   "execution_count": 95,
   "metadata": {},
   "outputs": [
    {
     "data": {
      "image/png": "[encoded data removed]",
      "text/plain": [
       "<Figure size 432x288 with 1 Axes>"
      ]
     },
     "metadata": {
      "needs_background": "light"
     },
     "output_type": "display_data"
    }
   ],
   "source": [
    "#Plot 1: Sentiment analysis by narrative\n",
    "plt.plot(compound_values)\n",
    "plt.xticks(rotation = 45)\n",
    "plt.title('Plot 1: Sentiment Analysis')\n",
    "plt.xlabel('Narrative')\n",
    "plt.ylabel('Compound Polarity');"
   ]
  },
  {
   "cell_type": "markdown",
   "metadata": {},
   "source": [
    "For some reason, all narratives have a compound polarity of 1 except the prologue which has a polarity of close to -1!\n",
    "\n",
    "Ignoring the prologue, seeing each narrative have a compound polarity between 0.99 and 1 is not useful at all when comparing narratives in _The Moonstone._ All narrators have a small amount of positive sentiment and negative sentiment, but none are drastic enough in either direction for us to use VADER and say that \"x narrator is distinct from others because he/she is vastly more negative in sentiment throughout their narrative.\""
   ]
  },
  {
   "cell_type": "markdown",
   "metadata": {},
   "source": [
    "### Latent Dirichlet Allocation (LDA)"
   ]
  },
  {
   "cell_type": "markdown",
   "metadata": {},
   "source": [
    "Latent dirichlet allocation is a form of unsupervised modelling that does not make a prediction like a standard model would under supervised modelling. Using LDA allows us to discover topics and themes that are not immediate to us as readers and then classifies each text by these topics without a traditional x-input and y-prediction model."
   ]
  },
  {
   "cell_type": "code",
   "execution_count": 85,
   "metadata": {},
   "outputs": [],
   "source": [
    "#Initialize CountVectorizer with parameters I found to have best fit the dataset\n",
    "count_vectorizer = CountVectorizer(stop_words='english', min_df=3, max_df=0.7, max_features=5000)"
   ]
  },
  {
   "cell_type": "code",
   "execution_count": 86,
   "metadata": {},
   "outputs": [
    {
     "data": {
      "text/plain": [
       "<11x2454 sparse matrix of type '<class 'numpy.int64'>'\n",
       "\twith 10522 stored elements in Compressed Sparse Row format>"
      ]
     },
     "execution_count": 86,
     "metadata": {},
     "output_type": "execute_result"
    }
   ],
   "source": [
    "narrators_counts = count_vectorizer.fit_transform(full_moonstone)\n",
    "narrators_counts"
   ]
  },
  {
   "cell_type": "code",
   "execution_count": 87,
   "metadata": {},
   "outputs": [],
   "source": [
    "word_labels = count_vectorizer.get_feature_names()"
   ]
  },
  {
   "cell_type": "code",
   "execution_count": 88,
   "metadata": {},
   "outputs": [
    {
     "data": {
      "text/html": [
       "<div>\n",
       "<style scoped>\n",
       "    .dataframe tbody tr th:only-of-type {\n",
       "        vertical-align: middle;\n",
       "    }\n",
       "\n",
       "    .dataframe tbody tr th {\n",
       "        vertical-align: top;\n",
       "    }\n",
       "\n",
       "    .dataframe thead th {\n",
       "        text-align: right;\n",
       "    }\n",
       "</style>\n",
       "<table border=\"1\" class=\"dataframe\">\n",
       "  <thead>\n",
       "    <tr style=\"text-align: right;\">\n",
       "      <th></th>\n",
       "      <th>1849</th>\n",
       "      <th>ability</th>\n",
       "      <th>able</th>\n",
       "      <th>ablewhite</th>\n",
       "      <th>ablewhites</th>\n",
       "      <th>abominable</th>\n",
       "      <th>abroad</th>\n",
       "      <th>abruptly</th>\n",
       "      <th>absence</th>\n",
       "      <th>absolutely</th>\n",
       "      <th>...</th>\n",
       "      <th>wrote</th>\n",
       "      <th>wrought</th>\n",
       "      <th>yard</th>\n",
       "      <th>yellow</th>\n",
       "      <th>yes</th>\n",
       "      <th>yesterday</th>\n",
       "      <th>yorkshire</th>\n",
       "      <th>young</th>\n",
       "      <th>younger</th>\n",
       "      <th>youth</th>\n",
       "    </tr>\n",
       "  </thead>\n",
       "  <tbody>\n",
       "    <tr>\n",
       "      <th>prologue</th>\n",
       "      <td>0</td>\n",
       "      <td>0</td>\n",
       "      <td>0</td>\n",
       "      <td>0</td>\n",
       "      <td>0</td>\n",
       "      <td>0</td>\n",
       "      <td>0</td>\n",
       "      <td>0</td>\n",
       "      <td>0</td>\n",
       "      <td>0</td>\n",
       "      <td>...</td>\n",
       "      <td>0</td>\n",
       "      <td>0</td>\n",
       "      <td>0</td>\n",
       "      <td>3</td>\n",
       "      <td>0</td>\n",
       "      <td>0</td>\n",
       "      <td>0</td>\n",
       "      <td>0</td>\n",
       "      <td>0</td>\n",
       "      <td>0</td>\n",
       "    </tr>\n",
       "    <tr>\n",
       "      <th>betteredge</th>\n",
       "      <td>0</td>\n",
       "      <td>2</td>\n",
       "      <td>5</td>\n",
       "      <td>2</td>\n",
       "      <td>4</td>\n",
       "      <td>5</td>\n",
       "      <td>6</td>\n",
       "      <td>0</td>\n",
       "      <td>2</td>\n",
       "      <td>3</td>\n",
       "      <td>...</td>\n",
       "      <td>6</td>\n",
       "      <td>1</td>\n",
       "      <td>8</td>\n",
       "      <td>7</td>\n",
       "      <td>39</td>\n",
       "      <td>6</td>\n",
       "      <td>4</td>\n",
       "      <td>75</td>\n",
       "      <td>3</td>\n",
       "      <td>1</td>\n",
       "    </tr>\n",
       "    <tr>\n",
       "      <th>clack</th>\n",
       "      <td>0</td>\n",
       "      <td>1</td>\n",
       "      <td>5</td>\n",
       "      <td>82</td>\n",
       "      <td>3</td>\n",
       "      <td>2</td>\n",
       "      <td>0</td>\n",
       "      <td>0</td>\n",
       "      <td>3</td>\n",
       "      <td>4</td>\n",
       "      <td>...</td>\n",
       "      <td>1</td>\n",
       "      <td>2</td>\n",
       "      <td>0</td>\n",
       "      <td>0</td>\n",
       "      <td>16</td>\n",
       "      <td>4</td>\n",
       "      <td>3</td>\n",
       "      <td>21</td>\n",
       "      <td>0</td>\n",
       "      <td>1</td>\n",
       "    </tr>\n",
       "    <tr>\n",
       "      <th>bruff</th>\n",
       "      <td>0</td>\n",
       "      <td>1</td>\n",
       "      <td>1</td>\n",
       "      <td>17</td>\n",
       "      <td>0</td>\n",
       "      <td>0</td>\n",
       "      <td>0</td>\n",
       "      <td>0</td>\n",
       "      <td>0</td>\n",
       "      <td>3</td>\n",
       "      <td>...</td>\n",
       "      <td>1</td>\n",
       "      <td>0</td>\n",
       "      <td>0</td>\n",
       "      <td>0</td>\n",
       "      <td>6</td>\n",
       "      <td>1</td>\n",
       "      <td>5</td>\n",
       "      <td>4</td>\n",
       "      <td>1</td>\n",
       "      <td>0</td>\n",
       "    </tr>\n",
       "    <tr>\n",
       "      <th>blake</th>\n",
       "      <td>0</td>\n",
       "      <td>1</td>\n",
       "      <td>12</td>\n",
       "      <td>10</td>\n",
       "      <td>1</td>\n",
       "      <td>2</td>\n",
       "      <td>3</td>\n",
       "      <td>4</td>\n",
       "      <td>4</td>\n",
       "      <td>3</td>\n",
       "      <td>...</td>\n",
       "      <td>4</td>\n",
       "      <td>0</td>\n",
       "      <td>3</td>\n",
       "      <td>0</td>\n",
       "      <td>22</td>\n",
       "      <td>4</td>\n",
       "      <td>9</td>\n",
       "      <td>8</td>\n",
       "      <td>0</td>\n",
       "      <td>1</td>\n",
       "    </tr>\n",
       "    <tr>\n",
       "      <th>jennings</th>\n",
       "      <td>1</td>\n",
       "      <td>0</td>\n",
       "      <td>3</td>\n",
       "      <td>0</td>\n",
       "      <td>0</td>\n",
       "      <td>0</td>\n",
       "      <td>0</td>\n",
       "      <td>2</td>\n",
       "      <td>1</td>\n",
       "      <td>0</td>\n",
       "      <td>...</td>\n",
       "      <td>3</td>\n",
       "      <td>1</td>\n",
       "      <td>0</td>\n",
       "      <td>0</td>\n",
       "      <td>8</td>\n",
       "      <td>8</td>\n",
       "      <td>4</td>\n",
       "      <td>7</td>\n",
       "      <td>1</td>\n",
       "      <td>1</td>\n",
       "    </tr>\n",
       "    <tr>\n",
       "      <th>blake2</th>\n",
       "      <td>0</td>\n",
       "      <td>0</td>\n",
       "      <td>2</td>\n",
       "      <td>2</td>\n",
       "      <td>0</td>\n",
       "      <td>0</td>\n",
       "      <td>0</td>\n",
       "      <td>1</td>\n",
       "      <td>0</td>\n",
       "      <td>0</td>\n",
       "      <td>...</td>\n",
       "      <td>3</td>\n",
       "      <td>0</td>\n",
       "      <td>0</td>\n",
       "      <td>0</td>\n",
       "      <td>6</td>\n",
       "      <td>1</td>\n",
       "      <td>2</td>\n",
       "      <td>0</td>\n",
       "      <td>0</td>\n",
       "      <td>1</td>\n",
       "    </tr>\n",
       "    <tr>\n",
       "      <th>cuff</th>\n",
       "      <td>1</td>\n",
       "      <td>0</td>\n",
       "      <td>0</td>\n",
       "      <td>31</td>\n",
       "      <td>0</td>\n",
       "      <td>0</td>\n",
       "      <td>1</td>\n",
       "      <td>0</td>\n",
       "      <td>1</td>\n",
       "      <td>1</td>\n",
       "      <td>...</td>\n",
       "      <td>0</td>\n",
       "      <td>0</td>\n",
       "      <td>1</td>\n",
       "      <td>0</td>\n",
       "      <td>0</td>\n",
       "      <td>0</td>\n",
       "      <td>0</td>\n",
       "      <td>6</td>\n",
       "      <td>0</td>\n",
       "      <td>0</td>\n",
       "    </tr>\n",
       "    <tr>\n",
       "      <th>candy</th>\n",
       "      <td>1</td>\n",
       "      <td>0</td>\n",
       "      <td>0</td>\n",
       "      <td>0</td>\n",
       "      <td>0</td>\n",
       "      <td>0</td>\n",
       "      <td>0</td>\n",
       "      <td>0</td>\n",
       "      <td>0</td>\n",
       "      <td>0</td>\n",
       "      <td>...</td>\n",
       "      <td>0</td>\n",
       "      <td>0</td>\n",
       "      <td>0</td>\n",
       "      <td>0</td>\n",
       "      <td>0</td>\n",
       "      <td>0</td>\n",
       "      <td>0</td>\n",
       "      <td>0</td>\n",
       "      <td>0</td>\n",
       "      <td>0</td>\n",
       "    </tr>\n",
       "    <tr>\n",
       "      <th>betteredge2</th>\n",
       "      <td>0</td>\n",
       "      <td>0</td>\n",
       "      <td>0</td>\n",
       "      <td>0</td>\n",
       "      <td>0</td>\n",
       "      <td>0</td>\n",
       "      <td>0</td>\n",
       "      <td>0</td>\n",
       "      <td>0</td>\n",
       "      <td>0</td>\n",
       "      <td>...</td>\n",
       "      <td>0</td>\n",
       "      <td>0</td>\n",
       "      <td>0</td>\n",
       "      <td>0</td>\n",
       "      <td>0</td>\n",
       "      <td>0</td>\n",
       "      <td>1</td>\n",
       "      <td>0</td>\n",
       "      <td>0</td>\n",
       "      <td>0</td>\n",
       "    </tr>\n",
       "    <tr>\n",
       "      <th>epilogue</th>\n",
       "      <td>2</td>\n",
       "      <td>0</td>\n",
       "      <td>2</td>\n",
       "      <td>0</td>\n",
       "      <td>0</td>\n",
       "      <td>0</td>\n",
       "      <td>0</td>\n",
       "      <td>0</td>\n",
       "      <td>0</td>\n",
       "      <td>0</td>\n",
       "      <td>...</td>\n",
       "      <td>0</td>\n",
       "      <td>0</td>\n",
       "      <td>0</td>\n",
       "      <td>1</td>\n",
       "      <td>1</td>\n",
       "      <td>0</td>\n",
       "      <td>0</td>\n",
       "      <td>0</td>\n",
       "      <td>0</td>\n",
       "      <td>0</td>\n",
       "    </tr>\n",
       "  </tbody>\n",
       "</table>\n",
       "<p>11 rows × 2454 columns</p>\n",
       "</div>"
      ],
      "text/plain": [
       "             1849  ability  able  ablewhite  ablewhites  abominable  abroad  \\\n",
       "prologue        0        0     0          0           0           0       0   \n",
       "betteredge      0        2     5          2           4           5       6   \n",
       "clack           0        1     5         82           3           2       0   \n",
       "bruff           0        1     1         17           0           0       0   \n",
       "blake           0        1    12         10           1           2       3   \n",
       "jennings        1        0     3          0           0           0       0   \n",
       "blake2          0        0     2          2           0           0       0   \n",
       "cuff            1        0     0         31           0           0       1   \n",
       "candy           1        0     0          0           0           0       0   \n",
       "betteredge2     0        0     0          0           0           0       0   \n",
       "epilogue        2        0     2          0           0           0       0   \n",
       "\n",
       "             abruptly  absence  absolutely  ...  wrote  wrought  yard  yellow  \\\n",
       "prologue            0        0           0  ...      0        0     0       3   \n",
       "betteredge          0        2           3  ...      6        1     8       7   \n",
       "clack               0        3           4  ...      1        2     0       0   \n",
       "bruff               0        0           3  ...      1        0     0       0   \n",
       "blake               4        4           3  ...      4        0     3       0   \n",
       "jennings            2        1           0  ...      3        1     0       0   \n",
       "blake2              1        0           0  ...      3        0     0       0   \n",
       "cuff                0        1           1  ...      0        0     1       0   \n",
       "candy               0        0           0  ...      0        0     0       0   \n",
       "betteredge2         0        0           0  ...      0        0     0       0   \n",
       "epilogue            0        0           0  ...      0        0     0       1   \n",
       "\n",
       "             yes  yesterday  yorkshire  young  younger  youth  \n",
       "prologue       0          0          0      0        0      0  \n",
       "betteredge    39          6          4     75        3      1  \n",
       "clack         16          4          3     21        0      1  \n",
       "bruff          6          1          5      4        1      0  \n",
       "blake         22          4          9      8        0      1  \n",
       "jennings       8          8          4      7        1      1  \n",
       "blake2         6          1          2      0        0      1  \n",
       "cuff           0          0          0      6        0      0  \n",
       "candy          0          0          0      0        0      0  \n",
       "betteredge2    0          0          1      0        0      0  \n",
       "epilogue       1          0          0      0        0      0  \n",
       "\n",
       "[11 rows x 2454 columns]"
      ]
     },
     "execution_count": 88,
     "metadata": {},
     "output_type": "execute_result"
    }
   ],
   "source": [
    "#Subfigure DataFrame with word counts by narrative\n",
    "narrators_df = pd.DataFrame(narrators_counts.todense(), index = narrators_labels, columns = word_labels)\n",
    "narrators_df"
   ]
  },
  {
   "cell_type": "markdown",
   "metadata": {},
   "source": [
    "From the dataframe above, we can immediately see the varying frequencies at which certain words are used by each narrator. Note, the counts are not divided by the number of words in each narrative so these are not true frequencies (by percentage) but rather raw counts of each word by each narrative. \n",
    "\n",
    "We can see that \"ablewhite\" is mentioned in Clack's narrative 82 times, far more than any in any other narrative. Similarly, Betteredge's first narrative has 75 counts of the word young - possibly due to the fact that he is older than many of the other narrators in _The Moonstone._\n",
    "\n",
    "An LDA plot can also help us see how our model makes predictions for each narrative. I use 4 n_components as it still gives us valuable data without cluttering our plot with a large legend and too many colors."
   ]
  },
  {
   "cell_type": "code",
   "execution_count": 119,
   "metadata": {},
   "outputs": [],
   "source": [
    "lda = LatentDirichletAllocation(n_components = 4)"
   ]
  },
  {
   "cell_type": "code",
   "execution_count": 120,
   "metadata": {},
   "outputs": [],
   "source": [
    "lda_out = lda.fit_transform(narrators_counts)"
   ]
  },
  {
   "cell_type": "code",
   "execution_count": 121,
   "metadata": {},
   "outputs": [
    {
     "data": {
      "text/plain": [
       "<matplotlib.axes._subplots.AxesSubplot at 0x1f79ba47c48>"
      ]
     },
     "execution_count": 121,
     "metadata": {},
     "output_type": "execute_result"
    },
    {
     "data": {
      "image/png": "[encoded data removed]",
      "text/plain": [
       "<Figure size 432x288 with 1 Axes>"
      ]
     },
     "metadata": {
      "needs_background": "light"
     },
     "output_type": "display_data"
    }
   ],
   "source": [
    "#A pre-processed LDA plot\n",
    "pd.DataFrame(lda_out).plot()"
   ]
  },
  {
   "cell_type": "code",
   "execution_count": 122,
   "metadata": {},
   "outputs": [
    {
     "data": {
      "text/plain": [
       "(4, 2454)"
      ]
     },
     "execution_count": 122,
     "metadata": {},
     "output_type": "execute_result"
    }
   ],
   "source": [
    "lda.components_.shape"
   ]
  },
  {
   "cell_type": "code",
   "execution_count": 123,
   "metadata": {},
   "outputs": [
    {
     "data": {
      "text/html": [
       "<div>\n",
       "<style scoped>\n",
       "    .dataframe tbody tr th:only-of-type {\n",
       "        vertical-align: middle;\n",
       "    }\n",
       "\n",
       "    .dataframe tbody tr th {\n",
       "        vertical-align: top;\n",
       "    }\n",
       "\n",
       "    .dataframe thead th {\n",
       "        text-align: right;\n",
       "    }\n",
       "</style>\n",
       "<table border=\"1\" class=\"dataframe\">\n",
       "  <thead>\n",
       "    <tr style=\"text-align: right;\">\n",
       "      <th></th>\n",
       "      <th>1849</th>\n",
       "      <th>ability</th>\n",
       "      <th>able</th>\n",
       "      <th>ablewhite</th>\n",
       "      <th>ablewhites</th>\n",
       "      <th>abominable</th>\n",
       "      <th>abroad</th>\n",
       "      <th>abruptly</th>\n",
       "      <th>absence</th>\n",
       "      <th>absolutely</th>\n",
       "      <th>...</th>\n",
       "      <th>wrote</th>\n",
       "      <th>wrought</th>\n",
       "      <th>yard</th>\n",
       "      <th>yellow</th>\n",
       "      <th>yes</th>\n",
       "      <th>yesterday</th>\n",
       "      <th>yorkshire</th>\n",
       "      <th>young</th>\n",
       "      <th>younger</th>\n",
       "      <th>youth</th>\n",
       "    </tr>\n",
       "  </thead>\n",
       "  <tbody>\n",
       "    <tr>\n",
       "      <th>Topic 0</th>\n",
       "      <td>0.250009</td>\n",
       "      <td>1.250019</td>\n",
       "      <td>1.249982</td>\n",
       "      <td>17.250291</td>\n",
       "      <td>0.250000</td>\n",
       "      <td>0.250000</td>\n",
       "      <td>0.250001</td>\n",
       "      <td>0.250001</td>\n",
       "      <td>0.250001</td>\n",
       "      <td>3.250080</td>\n",
       "      <td>...</td>\n",
       "      <td>1.250030</td>\n",
       "      <td>0.250001</td>\n",
       "      <td>0.250001</td>\n",
       "      <td>0.250001</td>\n",
       "      <td>6.250248</td>\n",
       "      <td>1.250011</td>\n",
       "      <td>5.250559</td>\n",
       "      <td>4.249992</td>\n",
       "      <td>1.250018</td>\n",
       "      <td>0.250001</td>\n",
       "    </tr>\n",
       "    <tr>\n",
       "      <th>Topic 1</th>\n",
       "      <td>2.252127</td>\n",
       "      <td>0.250001</td>\n",
       "      <td>2.250083</td>\n",
       "      <td>0.250001</td>\n",
       "      <td>0.250001</td>\n",
       "      <td>0.250001</td>\n",
       "      <td>0.250002</td>\n",
       "      <td>0.250002</td>\n",
       "      <td>0.250001</td>\n",
       "      <td>0.250001</td>\n",
       "      <td>...</td>\n",
       "      <td>0.250002</td>\n",
       "      <td>0.250001</td>\n",
       "      <td>0.250002</td>\n",
       "      <td>4.250088</td>\n",
       "      <td>1.249643</td>\n",
       "      <td>0.250002</td>\n",
       "      <td>0.250003</td>\n",
       "      <td>0.250001</td>\n",
       "      <td>0.250001</td>\n",
       "      <td>0.250002</td>\n",
       "    </tr>\n",
       "    <tr>\n",
       "      <th>Topic 2</th>\n",
       "      <td>1.573637</td>\n",
       "      <td>3.848789</td>\n",
       "      <td>24.041968</td>\n",
       "      <td>13.389517</td>\n",
       "      <td>5.947703</td>\n",
       "      <td>8.415353</td>\n",
       "      <td>9.250015</td>\n",
       "      <td>7.244070</td>\n",
       "      <td>7.893813</td>\n",
       "      <td>6.848486</td>\n",
       "      <td>...</td>\n",
       "      <td>16.714910</td>\n",
       "      <td>2.519821</td>\n",
       "      <td>11.250032</td>\n",
       "      <td>7.249911</td>\n",
       "      <td>81.481885</td>\n",
       "      <td>21.358150</td>\n",
       "      <td>21.883589</td>\n",
       "      <td>98.069639</td>\n",
       "      <td>4.249981</td>\n",
       "      <td>4.133863</td>\n",
       "    </tr>\n",
       "    <tr>\n",
       "      <th>Topic 3</th>\n",
       "      <td>1.924227</td>\n",
       "      <td>0.651190</td>\n",
       "      <td>3.457966</td>\n",
       "      <td>114.110191</td>\n",
       "      <td>2.552296</td>\n",
       "      <td>1.084646</td>\n",
       "      <td>1.249982</td>\n",
       "      <td>0.255927</td>\n",
       "      <td>3.606185</td>\n",
       "      <td>4.651433</td>\n",
       "      <td>...</td>\n",
       "      <td>0.785058</td>\n",
       "      <td>1.980176</td>\n",
       "      <td>1.249965</td>\n",
       "      <td>0.250000</td>\n",
       "      <td>10.018224</td>\n",
       "      <td>2.141837</td>\n",
       "      <td>1.615850</td>\n",
       "      <td>19.430367</td>\n",
       "      <td>0.250000</td>\n",
       "      <td>1.366134</td>\n",
       "    </tr>\n",
       "  </tbody>\n",
       "</table>\n",
       "<p>4 rows × 2454 columns</p>\n",
       "</div>"
      ],
      "text/plain": [
       "             1849   ability       able   ablewhite  ablewhites  abominable  \\\n",
       "Topic 0  0.250009  1.250019   1.249982   17.250291    0.250000    0.250000   \n",
       "Topic 1  2.252127  0.250001   2.250083    0.250001    0.250001    0.250001   \n",
       "Topic 2  1.573637  3.848789  24.041968   13.389517    5.947703    8.415353   \n",
       "Topic 3  1.924227  0.651190   3.457966  114.110191    2.552296    1.084646   \n",
       "\n",
       "           abroad  abruptly   absence  absolutely  ...      wrote   wrought  \\\n",
       "Topic 0  0.250001  0.250001  0.250001    3.250080  ...   1.250030  0.250001   \n",
       "Topic 1  0.250002  0.250002  0.250001    0.250001  ...   0.250002  0.250001   \n",
       "Topic 2  9.250015  7.244070  7.893813    6.848486  ...  16.714910  2.519821   \n",
       "Topic 3  1.249982  0.255927  3.606185    4.651433  ...   0.785058  1.980176   \n",
       "\n",
       "              yard    yellow        yes  yesterday  yorkshire      young  \\\n",
       "Topic 0   0.250001  0.250001   6.250248   1.250011   5.250559   4.249992   \n",
       "Topic 1   0.250002  4.250088   1.249643   0.250002   0.250003   0.250001   \n",
       "Topic 2  11.250032  7.249911  81.481885  21.358150  21.883589  98.069639   \n",
       "Topic 3   1.249965  0.250000  10.018224   2.141837   1.615850  19.430367   \n",
       "\n",
       "          younger     youth  \n",
       "Topic 0  1.250018  0.250001  \n",
       "Topic 1  0.250001  0.250002  \n",
       "Topic 2  4.249981  4.133863  \n",
       "Topic 3  0.250000  1.366134  \n",
       "\n",
       "[4 rows x 2454 columns]"
      ]
     },
     "execution_count": 123,
     "metadata": {},
     "output_type": "execute_result"
    }
   ],
   "source": [
    "topic_word_matrix = pd.DataFrame(lda.components_, index = ['Topic ' + str(x) for x in range(4)], columns = word_labels)\n",
    "topic_word_matrix"
   ]
  },
  {
   "cell_type": "code",
   "execution_count": 124,
   "metadata": {},
   "outputs": [],
   "source": [
    "#Function that returns a \"topic\" - list of the top five words\n",
    "def get_words(topic_name):\n",
    "    return ' '.join(list(topic_word_matrix.loc[topic_name].sort_values(ascending = False).head(5).index))"
   ]
  },
  {
   "cell_type": "code",
   "execution_count": 125,
   "metadata": {},
   "outputs": [],
   "source": [
    "topic_labels_words = [get_words(topic) for topic in ['Topic ' + str(x) for x in range(4)]]"
   ]
  },
  {
   "cell_type": "code",
   "execution_count": 126,
   "metadata": {},
   "outputs": [
    {
     "data": {
      "text/html": [
       "<div>\n",
       "<style scoped>\n",
       "    .dataframe tbody tr th:only-of-type {\n",
       "        vertical-align: middle;\n",
       "    }\n",
       "\n",
       "    .dataframe tbody tr th {\n",
       "        vertical-align: top;\n",
       "    }\n",
       "\n",
       "    .dataframe thead th {\n",
       "        text-align: right;\n",
       "    }\n",
       "</style>\n",
       "<table border=\"1\" class=\"dataframe\">\n",
       "  <thead>\n",
       "    <tr style=\"text-align: right;\">\n",
       "      <th></th>\n",
       "      <th>luker murthwaite bruff ablewhite office</th>\n",
       "      <th>sacred moon herncastle india cousin</th>\n",
       "      <th>sergeant rachel cuff don says</th>\n",
       "      <th>godfrey ablewhite rachel aunt dear</th>\n",
       "    </tr>\n",
       "  </thead>\n",
       "  <tbody>\n",
       "    <tr>\n",
       "      <th>prologue</th>\n",
       "      <td>0.000742</td>\n",
       "      <td>0.997768</td>\n",
       "      <td>0.000747</td>\n",
       "      <td>0.000743</td>\n",
       "    </tr>\n",
       "    <tr>\n",
       "      <th>betteredge</th>\n",
       "      <td>0.000018</td>\n",
       "      <td>0.000018</td>\n",
       "      <td>0.999945</td>\n",
       "      <td>0.000019</td>\n",
       "    </tr>\n",
       "    <tr>\n",
       "      <th>clack</th>\n",
       "      <td>0.000038</td>\n",
       "      <td>0.000037</td>\n",
       "      <td>0.338517</td>\n",
       "      <td>0.661409</td>\n",
       "    </tr>\n",
       "    <tr>\n",
       "      <th>bruff</th>\n",
       "      <td>0.999636</td>\n",
       "      <td>0.000119</td>\n",
       "      <td>0.000123</td>\n",
       "      <td>0.000123</td>\n",
       "    </tr>\n",
       "    <tr>\n",
       "      <th>blake</th>\n",
       "      <td>0.000030</td>\n",
       "      <td>0.000030</td>\n",
       "      <td>0.999855</td>\n",
       "      <td>0.000085</td>\n",
       "    </tr>\n",
       "    <tr>\n",
       "      <th>jennings</th>\n",
       "      <td>0.000085</td>\n",
       "      <td>0.000083</td>\n",
       "      <td>0.999745</td>\n",
       "      <td>0.000087</td>\n",
       "    </tr>\n",
       "    <tr>\n",
       "      <th>blake2</th>\n",
       "      <td>0.000171</td>\n",
       "      <td>0.000167</td>\n",
       "      <td>0.683313</td>\n",
       "      <td>0.316350</td>\n",
       "    </tr>\n",
       "    <tr>\n",
       "      <th>cuff</th>\n",
       "      <td>0.000265</td>\n",
       "      <td>0.000263</td>\n",
       "      <td>0.000271</td>\n",
       "      <td>0.999200</td>\n",
       "    </tr>\n",
       "    <tr>\n",
       "      <th>candy</th>\n",
       "      <td>0.001665</td>\n",
       "      <td>0.001695</td>\n",
       "      <td>0.747009</td>\n",
       "      <td>0.249631</td>\n",
       "    </tr>\n",
       "    <tr>\n",
       "      <th>betteredge2</th>\n",
       "      <td>0.001848</td>\n",
       "      <td>0.001714</td>\n",
       "      <td>0.994617</td>\n",
       "      <td>0.001820</td>\n",
       "    </tr>\n",
       "    <tr>\n",
       "      <th>epilogue</th>\n",
       "      <td>0.000612</td>\n",
       "      <td>0.998155</td>\n",
       "      <td>0.000619</td>\n",
       "      <td>0.000614</td>\n",
       "    </tr>\n",
       "  </tbody>\n",
       "</table>\n",
       "</div>"
      ],
      "text/plain": [
       "             luker murthwaite bruff ablewhite office  \\\n",
       "prologue                                    0.000742   \n",
       "betteredge                                  0.000018   \n",
       "clack                                       0.000038   \n",
       "bruff                                       0.999636   \n",
       "blake                                       0.000030   \n",
       "jennings                                    0.000085   \n",
       "blake2                                      0.000171   \n",
       "cuff                                        0.000265   \n",
       "candy                                       0.001665   \n",
       "betteredge2                                 0.001848   \n",
       "epilogue                                    0.000612   \n",
       "\n",
       "             sacred moon herncastle india cousin  \\\n",
       "prologue                                0.997768   \n",
       "betteredge                              0.000018   \n",
       "clack                                   0.000037   \n",
       "bruff                                   0.000119   \n",
       "blake                                   0.000030   \n",
       "jennings                                0.000083   \n",
       "blake2                                  0.000167   \n",
       "cuff                                    0.000263   \n",
       "candy                                   0.001695   \n",
       "betteredge2                             0.001714   \n",
       "epilogue                                0.998155   \n",
       "\n",
       "             sergeant rachel cuff don says  godfrey ablewhite rachel aunt dear  \n",
       "prologue                          0.000747                            0.000743  \n",
       "betteredge                        0.999945                            0.000019  \n",
       "clack                             0.338517                            0.661409  \n",
       "bruff                             0.000123                            0.000123  \n",
       "blake                             0.999855                            0.000085  \n",
       "jennings                          0.999745                            0.000087  \n",
       "blake2                            0.683313                            0.316350  \n",
       "cuff                              0.000271                            0.999200  \n",
       "candy                             0.747009                            0.249631  \n",
       "betteredge2                       0.994617                            0.001820  \n",
       "epilogue                          0.000619                            0.000614  "
      ]
     },
     "execution_count": 126,
     "metadata": {},
     "output_type": "execute_result"
    }
   ],
   "source": [
    "pd.DataFrame(lda_out, columns = topic_labels_words, index = narrators_labels)"
   ]
  },
  {
   "cell_type": "markdown",
   "metadata": {},
   "source": [
    "Creating a topic word matrix and a supporting function that draws the 5 words with the highest values allows us to see what our LDA model believes to be the discernable topics to categorize each narrative into (limited to 4 as stated above). Our final LDA plot incorporates these topics to increase readability. \n",
    "\n",
    "_Plot #2_ is as follows:"
   ]
  },
  {
   "cell_type": "code",
   "execution_count": 142,
   "metadata": {},
   "outputs": [
    {
     "data": {
      "image/png": "[encoded data removed]",
      "text/plain": [
       "<Figure size 432x288 with 1 Axes>"
      ]
     },
     "metadata": {
      "needs_background": "light"
     },
     "output_type": "display_data"
    }
   ],
   "source": [
    "pd.DataFrame(lda_out, columns = topic_labels_words).plot()\n",
    "plt.title('Plot #2: LDA Plot')\n",
    "plt.xlabel('Narrative')\n",
    "plt.ylabel('Confidence in topic');"
   ]
  },
  {
   "cell_type": "markdown",
   "metadata": {},
   "source": [
    "From this plot, we can see that the orange line does a very accurate job with the topic of both the prologue and epilogue (using topics like sacred, herncastle, and india). Topics 2 (green), 3 (red), and 0 (blue) correspond with Betteredge, Clack, and Bruff's narratives respectively so it makes sense that they are identified distinctly. Clack's (red, topic 3) has distinct words such as \"godfrey\" and \"aunt\" which makes sense as a reader since she praises Godfrey throughout her narrative and distinctively refers to Rachel as her aunt (due to being her niece). \n",
    "\n",
    "Similarly, Bruff's (topic 0) includes words such as \"luker\" and \"murthwaite\" due to his investigations into the Indians and the moneylender. Betteredge's, shown by orange, does identify his 2nd narrative (9th narrative per the x-axis) later on in the text.\n",
    "\n",
    "Interesting note: topics are out of order when compared to narrative order!"
   ]
  },
  {
   "cell_type": "markdown",
   "metadata": {},
   "source": [
    "## Term frequency–inverse document frequency (tf-idf)"
   ]
  },
  {
   "cell_type": "markdown",
   "metadata": {},
   "source": [
    "The final quantitative statistic I want to explore is term frequency-inverse document frequency (denoted as tf-idf). After calculating tf-idf per narrative, we will have the ability to see how important a word is to a document in a corpus (or in our case, how important a word is to a narrative in _The Moonstone)_. Below, I will modify TfidfVectorizer's parameters to only accept words that appear in atleast 60% of our narratives. Limiting our tfidf vectorizer to words that appear across all narratives will return less than 100 features. In my opinion, having around 500 words is a better metric and there are 600 words that appear in at least 60% of the narratives in the story."
   ]
  },
  {
   "cell_type": "code",
   "execution_count": 71,
   "metadata": {},
   "outputs": [],
   "source": [
    "#Modify TfidfVectorizer to require a word to appear in at least 60% of documents\n",
    "tfidf_vectorizer = TfidfVectorizer(min_df = 0.6, use_idf = False)"
   ]
  },
  {
   "cell_type": "code",
   "execution_count": 72,
   "metadata": {},
   "outputs": [],
   "source": [
    "moonstone_freq = tfidf_vectorizer.fit_transform(full_moonstone).todense()"
   ]
  },
  {
   "cell_type": "code",
   "execution_count": 73,
   "metadata": {},
   "outputs": [
    {
     "data": {
      "text/html": [
       "<div>\n",
       "<style scoped>\n",
       "    .dataframe tbody tr th:only-of-type {\n",
       "        vertical-align: middle;\n",
       "    }\n",
       "\n",
       "    .dataframe tbody tr th {\n",
       "        vertical-align: top;\n",
       "    }\n",
       "\n",
       "    .dataframe thead th {\n",
       "        text-align: right;\n",
       "    }\n",
       "</style>\n",
       "<table border=\"1\" class=\"dataframe\">\n",
       "  <thead>\n",
       "    <tr style=\"text-align: right;\">\n",
       "      <th></th>\n",
       "      <th>able</th>\n",
       "      <th>about</th>\n",
       "      <th>acting</th>\n",
       "      <th>add</th>\n",
       "      <th>addressed</th>\n",
       "      <th>afraid</th>\n",
       "      <th>after</th>\n",
       "      <th>afterwards</th>\n",
       "      <th>again</th>\n",
       "      <th>against</th>\n",
       "      <th>...</th>\n",
       "      <th>written</th>\n",
       "      <th>year</th>\n",
       "      <th>years</th>\n",
       "      <th>yes</th>\n",
       "      <th>yet</th>\n",
       "      <th>yorkshire</th>\n",
       "      <th>you</th>\n",
       "      <th>your</th>\n",
       "      <th>yours</th>\n",
       "      <th>yourself</th>\n",
       "    </tr>\n",
       "  </thead>\n",
       "  <tbody>\n",
       "    <tr>\n",
       "      <th>prologue</th>\n",
       "      <td>0.000000</td>\n",
       "      <td>0.011621</td>\n",
       "      <td>0.000000</td>\n",
       "      <td>0.000000</td>\n",
       "      <td>0.000000</td>\n",
       "      <td>0.000000</td>\n",
       "      <td>0.011621</td>\n",
       "      <td>0.000000</td>\n",
       "      <td>0.007747</td>\n",
       "      <td>0.000000</td>\n",
       "      <td>...</td>\n",
       "      <td>0.007747</td>\n",
       "      <td>0.000000</td>\n",
       "      <td>0.007747</td>\n",
       "      <td>0.000000</td>\n",
       "      <td>0.003874</td>\n",
       "      <td>0.000000</td>\n",
       "      <td>0.015495</td>\n",
       "      <td>0.003874</td>\n",
       "      <td>0.003874</td>\n",
       "      <td>0.000000</td>\n",
       "    </tr>\n",
       "    <tr>\n",
       "      <th>betteredge</th>\n",
       "      <td>0.000697</td>\n",
       "      <td>0.024257</td>\n",
       "      <td>0.000697</td>\n",
       "      <td>0.001533</td>\n",
       "      <td>0.001255</td>\n",
       "      <td>0.002509</td>\n",
       "      <td>0.018402</td>\n",
       "      <td>0.001533</td>\n",
       "      <td>0.019099</td>\n",
       "      <td>0.004182</td>\n",
       "      <td>...</td>\n",
       "      <td>0.002509</td>\n",
       "      <td>0.001533</td>\n",
       "      <td>0.003346</td>\n",
       "      <td>0.005437</td>\n",
       "      <td>0.003764</td>\n",
       "      <td>0.000558</td>\n",
       "      <td>0.109434</td>\n",
       "      <td>0.035270</td>\n",
       "      <td>0.000976</td>\n",
       "      <td>0.002230</td>\n",
       "    </tr>\n",
       "    <tr>\n",
       "      <th>clack</th>\n",
       "      <td>0.001801</td>\n",
       "      <td>0.011885</td>\n",
       "      <td>0.000360</td>\n",
       "      <td>0.003241</td>\n",
       "      <td>0.002521</td>\n",
       "      <td>0.001801</td>\n",
       "      <td>0.012605</td>\n",
       "      <td>0.002161</td>\n",
       "      <td>0.019448</td>\n",
       "      <td>0.001441</td>\n",
       "      <td>...</td>\n",
       "      <td>0.002521</td>\n",
       "      <td>0.000360</td>\n",
       "      <td>0.002161</td>\n",
       "      <td>0.005762</td>\n",
       "      <td>0.006122</td>\n",
       "      <td>0.001080</td>\n",
       "      <td>0.123528</td>\n",
       "      <td>0.037455</td>\n",
       "      <td>0.001441</td>\n",
       "      <td>0.004682</td>\n",
       "    </tr>\n",
       "    <tr>\n",
       "      <th>bruff</th>\n",
       "      <td>0.000928</td>\n",
       "      <td>0.017624</td>\n",
       "      <td>0.001855</td>\n",
       "      <td>0.004638</td>\n",
       "      <td>0.000928</td>\n",
       "      <td>0.000928</td>\n",
       "      <td>0.015769</td>\n",
       "      <td>0.002783</td>\n",
       "      <td>0.009276</td>\n",
       "      <td>0.001855</td>\n",
       "      <td>...</td>\n",
       "      <td>0.004638</td>\n",
       "      <td>0.003710</td>\n",
       "      <td>0.002783</td>\n",
       "      <td>0.005565</td>\n",
       "      <td>0.000928</td>\n",
       "      <td>0.004638</td>\n",
       "      <td>0.089047</td>\n",
       "      <td>0.024117</td>\n",
       "      <td>0.000000</td>\n",
       "      <td>0.002783</td>\n",
       "    </tr>\n",
       "    <tr>\n",
       "      <th>blake</th>\n",
       "      <td>0.002782</td>\n",
       "      <td>0.013908</td>\n",
       "      <td>0.001623</td>\n",
       "      <td>0.000695</td>\n",
       "      <td>0.001159</td>\n",
       "      <td>0.002550</td>\n",
       "      <td>0.019471</td>\n",
       "      <td>0.004636</td>\n",
       "      <td>0.024571</td>\n",
       "      <td>0.005331</td>\n",
       "      <td>...</td>\n",
       "      <td>0.002086</td>\n",
       "      <td>0.004404</td>\n",
       "      <td>0.001854</td>\n",
       "      <td>0.005100</td>\n",
       "      <td>0.005795</td>\n",
       "      <td>0.002086</td>\n",
       "      <td>0.224153</td>\n",
       "      <td>0.055864</td>\n",
       "      <td>0.001854</td>\n",
       "      <td>0.007418</td>\n",
       "    </tr>\n",
       "    <tr>\n",
       "      <th>jennings</th>\n",
       "      <td>0.002027</td>\n",
       "      <td>0.005407</td>\n",
       "      <td>0.001352</td>\n",
       "      <td>0.000676</td>\n",
       "      <td>0.002027</td>\n",
       "      <td>0.002703</td>\n",
       "      <td>0.018247</td>\n",
       "      <td>0.000676</td>\n",
       "      <td>0.025681</td>\n",
       "      <td>0.005407</td>\n",
       "      <td>...</td>\n",
       "      <td>0.005407</td>\n",
       "      <td>0.018247</td>\n",
       "      <td>0.004055</td>\n",
       "      <td>0.005407</td>\n",
       "      <td>0.006082</td>\n",
       "      <td>0.002703</td>\n",
       "      <td>0.072989</td>\n",
       "      <td>0.015544</td>\n",
       "      <td>0.002027</td>\n",
       "      <td>0.000676</td>\n",
       "    </tr>\n",
       "    <tr>\n",
       "      <th>blake2</th>\n",
       "      <td>0.002462</td>\n",
       "      <td>0.019700</td>\n",
       "      <td>0.001231</td>\n",
       "      <td>0.002462</td>\n",
       "      <td>0.001231</td>\n",
       "      <td>0.001231</td>\n",
       "      <td>0.029550</td>\n",
       "      <td>0.004925</td>\n",
       "      <td>0.019700</td>\n",
       "      <td>0.001231</td>\n",
       "      <td>...</td>\n",
       "      <td>0.006156</td>\n",
       "      <td>0.003694</td>\n",
       "      <td>0.001231</td>\n",
       "      <td>0.007387</td>\n",
       "      <td>0.007387</td>\n",
       "      <td>0.002462</td>\n",
       "      <td>0.076337</td>\n",
       "      <td>0.018469</td>\n",
       "      <td>0.001231</td>\n",
       "      <td>0.002462</td>\n",
       "    </tr>\n",
       "    <tr>\n",
       "      <th>cuff</th>\n",
       "      <td>0.000000</td>\n",
       "      <td>0.001877</td>\n",
       "      <td>0.001877</td>\n",
       "      <td>0.001877</td>\n",
       "      <td>0.001877</td>\n",
       "      <td>0.000000</td>\n",
       "      <td>0.013138</td>\n",
       "      <td>0.003754</td>\n",
       "      <td>0.018768</td>\n",
       "      <td>0.001877</td>\n",
       "      <td>...</td>\n",
       "      <td>0.003754</td>\n",
       "      <td>0.016891</td>\n",
       "      <td>0.000000</td>\n",
       "      <td>0.000000</td>\n",
       "      <td>0.003754</td>\n",
       "      <td>0.000000</td>\n",
       "      <td>0.106979</td>\n",
       "      <td>0.039413</td>\n",
       "      <td>0.001877</td>\n",
       "      <td>0.005630</td>\n",
       "    </tr>\n",
       "    <tr>\n",
       "      <th>candy</th>\n",
       "      <td>0.000000</td>\n",
       "      <td>0.000000</td>\n",
       "      <td>0.000000</td>\n",
       "      <td>0.000000</td>\n",
       "      <td>0.000000</td>\n",
       "      <td>0.011644</td>\n",
       "      <td>0.011644</td>\n",
       "      <td>0.011644</td>\n",
       "      <td>0.023287</td>\n",
       "      <td>0.000000</td>\n",
       "      <td>...</td>\n",
       "      <td>0.011644</td>\n",
       "      <td>0.011644</td>\n",
       "      <td>0.011644</td>\n",
       "      <td>0.000000</td>\n",
       "      <td>0.000000</td>\n",
       "      <td>0.000000</td>\n",
       "      <td>0.174655</td>\n",
       "      <td>0.046575</td>\n",
       "      <td>0.011644</td>\n",
       "      <td>0.000000</td>\n",
       "    </tr>\n",
       "    <tr>\n",
       "      <th>betteredge2</th>\n",
       "      <td>0.000000</td>\n",
       "      <td>0.027716</td>\n",
       "      <td>0.000000</td>\n",
       "      <td>0.000000</td>\n",
       "      <td>0.000000</td>\n",
       "      <td>0.000000</td>\n",
       "      <td>0.000000</td>\n",
       "      <td>0.000000</td>\n",
       "      <td>0.013858</td>\n",
       "      <td>0.000000</td>\n",
       "      <td>...</td>\n",
       "      <td>0.013858</td>\n",
       "      <td>0.000000</td>\n",
       "      <td>0.000000</td>\n",
       "      <td>0.000000</td>\n",
       "      <td>0.013858</td>\n",
       "      <td>0.013858</td>\n",
       "      <td>0.277164</td>\n",
       "      <td>0.055433</td>\n",
       "      <td>0.013858</td>\n",
       "      <td>0.013858</td>\n",
       "    </tr>\n",
       "    <tr>\n",
       "      <th>epilogue</th>\n",
       "      <td>0.007012</td>\n",
       "      <td>0.010519</td>\n",
       "      <td>0.000000</td>\n",
       "      <td>0.007012</td>\n",
       "      <td>0.000000</td>\n",
       "      <td>0.003506</td>\n",
       "      <td>0.010519</td>\n",
       "      <td>0.003506</td>\n",
       "      <td>0.014025</td>\n",
       "      <td>0.000000</td>\n",
       "      <td>...</td>\n",
       "      <td>0.003506</td>\n",
       "      <td>0.000000</td>\n",
       "      <td>0.003506</td>\n",
       "      <td>0.003506</td>\n",
       "      <td>0.000000</td>\n",
       "      <td>0.000000</td>\n",
       "      <td>0.038569</td>\n",
       "      <td>0.003506</td>\n",
       "      <td>0.000000</td>\n",
       "      <td>0.000000</td>\n",
       "    </tr>\n",
       "  </tbody>\n",
       "</table>\n",
       "<p>11 rows × 600 columns</p>\n",
       "</div>"
      ],
      "text/plain": [
       "                 able     about    acting       add  addressed    afraid  \\\n",
       "prologue     0.000000  0.011621  0.000000  0.000000   0.000000  0.000000   \n",
       "betteredge   0.000697  0.024257  0.000697  0.001533   0.001255  0.002509   \n",
       "clack        0.001801  0.011885  0.000360  0.003241   0.002521  0.001801   \n",
       "bruff        0.000928  0.017624  0.001855  0.004638   0.000928  0.000928   \n",
       "blake        0.002782  0.013908  0.001623  0.000695   0.001159  0.002550   \n",
       "jennings     0.002027  0.005407  0.001352  0.000676   0.002027  0.002703   \n",
       "blake2       0.002462  0.019700  0.001231  0.002462   0.001231  0.001231   \n",
       "cuff         0.000000  0.001877  0.001877  0.001877   0.001877  0.000000   \n",
       "candy        0.000000  0.000000  0.000000  0.000000   0.000000  0.011644   \n",
       "betteredge2  0.000000  0.027716  0.000000  0.000000   0.000000  0.000000   \n",
       "epilogue     0.007012  0.010519  0.000000  0.007012   0.000000  0.003506   \n",
       "\n",
       "                after  afterwards     again   against  ...   written  \\\n",
       "prologue     0.011621    0.000000  0.007747  0.000000  ...  0.007747   \n",
       "betteredge   0.018402    0.001533  0.019099  0.004182  ...  0.002509   \n",
       "clack        0.012605    0.002161  0.019448  0.001441  ...  0.002521   \n",
       "bruff        0.015769    0.002783  0.009276  0.001855  ...  0.004638   \n",
       "blake        0.019471    0.004636  0.024571  0.005331  ...  0.002086   \n",
       "jennings     0.018247    0.000676  0.025681  0.005407  ...  0.005407   \n",
       "blake2       0.029550    0.004925  0.019700  0.001231  ...  0.006156   \n",
       "cuff         0.013138    0.003754  0.018768  0.001877  ...  0.003754   \n",
       "candy        0.011644    0.011644  0.023287  0.000000  ...  0.011644   \n",
       "betteredge2  0.000000    0.000000  0.013858  0.000000  ...  0.013858   \n",
       "epilogue     0.010519    0.003506  0.014025  0.000000  ...  0.003506   \n",
       "\n",
       "                 year     years       yes       yet  yorkshire       you  \\\n",
       "prologue     0.000000  0.007747  0.000000  0.003874   0.000000  0.015495   \n",
       "betteredge   0.001533  0.003346  0.005437  0.003764   0.000558  0.109434   \n",
       "clack        0.000360  0.002161  0.005762  0.006122   0.001080  0.123528   \n",
       "bruff        0.003710  0.002783  0.005565  0.000928   0.004638  0.089047   \n",
       "blake        0.004404  0.001854  0.005100  0.005795   0.002086  0.224153   \n",
       "jennings     0.018247  0.004055  0.005407  0.006082   0.002703  0.072989   \n",
       "blake2       0.003694  0.001231  0.007387  0.007387   0.002462  0.076337   \n",
       "cuff         0.016891  0.000000  0.000000  0.003754   0.000000  0.106979   \n",
       "candy        0.011644  0.011644  0.000000  0.000000   0.000000  0.174655   \n",
       "betteredge2  0.000000  0.000000  0.000000  0.013858   0.013858  0.277164   \n",
       "epilogue     0.000000  0.003506  0.003506  0.000000   0.000000  0.038569   \n",
       "\n",
       "                 your     yours  yourself  \n",
       "prologue     0.003874  0.003874  0.000000  \n",
       "betteredge   0.035270  0.000976  0.002230  \n",
       "clack        0.037455  0.001441  0.004682  \n",
       "bruff        0.024117  0.000000  0.002783  \n",
       "blake        0.055864  0.001854  0.007418  \n",
       "jennings     0.015544  0.002027  0.000676  \n",
       "blake2       0.018469  0.001231  0.002462  \n",
       "cuff         0.039413  0.001877  0.005630  \n",
       "candy        0.046575  0.011644  0.000000  \n",
       "betteredge2  0.055433  0.013858  0.013858  \n",
       "epilogue     0.003506  0.000000  0.000000  \n",
       "\n",
       "[11 rows x 600 columns]"
      ]
     },
     "execution_count": 73,
     "metadata": {},
     "output_type": "execute_result"
    }
   ],
   "source": [
    "#Create a DataFrame to show each word's frequency in each narrative\n",
    "moonstone_df = pd.DataFrame(moonstone_freq, columns = tfidf_vectorizer.get_feature_names(), index = narrators_labels)\n",
    "moonstone_df"
   ]
  },
  {
   "cell_type": "markdown",
   "metadata": {},
   "source": [
    "## Principal component analysis (PCA)"
   ]
  },
  {
   "cell_type": "markdown",
   "metadata": {},
   "source": [
    "As seen above, the shape of our moonstone_df is 11 rows x 600 columns. As humans, we have a lot of difficulty understanding visualizations above 2d space, so plotting a model with 600 features would be impossible. Principal component analysis allows us to visualize the relationship between all our words and their corresponding narratives with a two-dimensional plot."
   ]
  },
  {
   "cell_type": "code",
   "execution_count": 74,
   "metadata": {},
   "outputs": [],
   "source": [
    "pca = PCA(n_components = 2)"
   ]
  },
  {
   "cell_type": "code",
   "execution_count": 84,
   "metadata": {},
   "outputs": [
    {
     "data": {
      "text/plain": [
       "(11, 2)"
      ]
     },
     "execution_count": 84,
     "metadata": {},
     "output_type": "execute_result"
    }
   ],
   "source": [
    "#Show that the new shape is 11 x 2 from 11 x 600\n",
    "moonstone_reduced = pca.fit_transform(moonstone_freq)\n",
    "moonstone_reduced.shape"
   ]
  },
  {
   "cell_type": "code",
   "execution_count": 76,
   "metadata": {},
   "outputs": [
    {
     "data": {
      "text/plain": [
       "array([[-0.24196894, -0.10209113],\n",
       "       [ 0.00774726,  0.03962561],\n",
       "       [ 0.06559926,  0.06439087],\n",
       "       [-0.01896806,  0.01105134],\n",
       "       [ 0.05923949,  0.10054291],\n",
       "       [ 0.04014251, -0.03295629],\n",
       "       [-0.08047824, -0.08958079],\n",
       "       [-0.10117556, -0.0671149 ],\n",
       "       [ 0.47562697, -0.19595012],\n",
       "       [ 0.06973255,  0.34904301],\n",
       "       [-0.27549724, -0.0769605 ]])"
      ]
     },
     "execution_count": 76,
     "metadata": {},
     "output_type": "execute_result"
    }
   ],
   "source": [
    "#Pre-processed array of PC1 and PC2 values\n",
    "moonstone_reduced"
   ]
  },
  {
   "cell_type": "code",
   "execution_count": 77,
   "metadata": {},
   "outputs": [
    {
     "data": {
      "text/html": [
       "<div>\n",
       "<style scoped>\n",
       "    .dataframe tbody tr th:only-of-type {\n",
       "        vertical-align: middle;\n",
       "    }\n",
       "\n",
       "    .dataframe tbody tr th {\n",
       "        vertical-align: top;\n",
       "    }\n",
       "\n",
       "    .dataframe thead th {\n",
       "        text-align: right;\n",
       "    }\n",
       "</style>\n",
       "<table border=\"1\" class=\"dataframe\">\n",
       "  <thead>\n",
       "    <tr style=\"text-align: right;\">\n",
       "      <th></th>\n",
       "      <th>PC1</th>\n",
       "      <th>PC2</th>\n",
       "    </tr>\n",
       "  </thead>\n",
       "  <tbody>\n",
       "    <tr>\n",
       "      <th>prologue</th>\n",
       "      <td>-0.241969</td>\n",
       "      <td>-0.102091</td>\n",
       "    </tr>\n",
       "    <tr>\n",
       "      <th>betteredge</th>\n",
       "      <td>0.007747</td>\n",
       "      <td>0.039626</td>\n",
       "    </tr>\n",
       "    <tr>\n",
       "      <th>clack</th>\n",
       "      <td>0.065599</td>\n",
       "      <td>0.064391</td>\n",
       "    </tr>\n",
       "    <tr>\n",
       "      <th>bruff</th>\n",
       "      <td>-0.018968</td>\n",
       "      <td>0.011051</td>\n",
       "    </tr>\n",
       "    <tr>\n",
       "      <th>blake</th>\n",
       "      <td>0.059239</td>\n",
       "      <td>0.100543</td>\n",
       "    </tr>\n",
       "    <tr>\n",
       "      <th>jennings</th>\n",
       "      <td>0.040143</td>\n",
       "      <td>-0.032956</td>\n",
       "    </tr>\n",
       "    <tr>\n",
       "      <th>blake2</th>\n",
       "      <td>-0.080478</td>\n",
       "      <td>-0.089581</td>\n",
       "    </tr>\n",
       "    <tr>\n",
       "      <th>cuff</th>\n",
       "      <td>-0.101176</td>\n",
       "      <td>-0.067115</td>\n",
       "    </tr>\n",
       "    <tr>\n",
       "      <th>candy</th>\n",
       "      <td>0.475627</td>\n",
       "      <td>-0.195950</td>\n",
       "    </tr>\n",
       "    <tr>\n",
       "      <th>betteredge2</th>\n",
       "      <td>0.069733</td>\n",
       "      <td>0.349043</td>\n",
       "    </tr>\n",
       "    <tr>\n",
       "      <th>epilogue</th>\n",
       "      <td>-0.275497</td>\n",
       "      <td>-0.076961</td>\n",
       "    </tr>\n",
       "  </tbody>\n",
       "</table>\n",
       "</div>"
      ],
      "text/plain": [
       "                  PC1       PC2\n",
       "prologue    -0.241969 -0.102091\n",
       "betteredge   0.007747  0.039626\n",
       "clack        0.065599  0.064391\n",
       "bruff       -0.018968  0.011051\n",
       "blake        0.059239  0.100543\n",
       "jennings     0.040143 -0.032956\n",
       "blake2      -0.080478 -0.089581\n",
       "cuff        -0.101176 -0.067115\n",
       "candy        0.475627 -0.195950\n",
       "betteredge2  0.069733  0.349043\n",
       "epilogue    -0.275497 -0.076961"
      ]
     },
     "execution_count": 77,
     "metadata": {},
     "output_type": "execute_result"
    }
   ],
   "source": [
    "#Subfigure that clearly shows PC1 and PC2 values for each narrative\n",
    "moonstone_reduced_df = pd.DataFrame(moonstone_reduced, index = narrators_labels, columns = ['PC1', 'PC2'])\n",
    "moonstone_reduced_df"
   ]
  },
  {
   "cell_type": "markdown",
   "metadata": {},
   "source": [
    "With values for PC1 and PC2 for each narrative, we can now plot these points onto a 2d scatterplot and analyze the relationship between narratives by looking at the location of each point. Points that are clustered imply some relationship between them."
   ]
  },
  {
   "cell_type": "code",
   "execution_count": 83,
   "metadata": {},
   "outputs": [
    {
     "data": {
      "image/png": "[encoded data removed]",
      "text/plain": [
       "<Figure size 432x288 with 1 Axes>"
      ]
     },
     "metadata": {
      "needs_background": "light"
     },
     "output_type": "display_data"
    }
   ],
   "source": [
    "pca_plot = moonstone_reduced_df.plot(kind='scatter', x = 'PC1', y = 'PC2')\n",
    "for title, points in moonstone_reduced_df.iterrows():\n",
    "    pca_plot.annotate(title, points)\n",
    "plt.title('Plot #3: PCA Plot');"
   ]
  },
  {
   "cell_type": "markdown",
   "metadata": {},
   "source": [
    "Our PCA plot shows a few interesting data points. Perhaps most noticeable is that Candy's narrative is by far the most distinct according to our tf-idf model, boasting a very high PC1 value and low PC2 value. As stated above, Candy's narrative is actually in the form of a letter to Franklin Blake so that might have had a huge part in its place on this plot.\n",
    "\n",
    "Another interesting point on apart from the main cluster of points is Betteredge's 2nd narrative, which has a very high PC2 value despite a rather standard PC1 value. I'm not sure why this is, but we do know from our word count and TTR analysis that Betteredge's 2nd narrative is one of the shortest and boasts a very high type-token ratio. \n",
    "\n",
    "One mini-cluster we can see contains both the epilogue and prologue, both having low PC1 and PC2 values. This of course makes sense as the serve as an introduction and conclusion for _The Moonstone_ and are not a traditional narrative with one narrator."
   ]
  },
  {
   "cell_type": "markdown",
   "metadata": {},
   "source": [
    "## Conclusion\n",
    "\n",
    "Throughout this project, I have calculated numerical statistics such as type-token ratio (and further analysis with word count), sentiment, LDA, and tf-idf (utilizing PCA to allow me to visualize it). \n",
    "\n",
    "The biggest surprise is perhaps the rather ineffectiveness of using (compound) sentiment analysis in distinguishing between narrators. A compound sentiment of around 1 for every main narrator is of course useless when trying to decipher between them.\n",
    "\n",
    "However, many of the other forms of analysis did result in interesting results. Computed TTRs per narrator varied from 0.1 to 0.4, with narrators like Cuff have a type-token ratio twice has high as someone like Clack. Our LDA model was able to generate different topics that are able to accurately classify the first 4 narratives. It is my belief that, were we to ignore readability and change some of the LDA parameters, we would be able to come up with a model for most (if not all narratives) and then use that data to read in random sentences and classify those by topic/narrator. As for tf-idf, we were able to find distinct narratives such as Candy's and Betteredge's 2nd, but the vast majority are clustered around a value of zero for both PC1 and PC2. With this, we would only be able to identify with confidence if a random sentence is from one of those two narratives or from the epilogue/prologue. \n",
    "\n",
    "With the uncertainty/general ineffectiveness around tf-idf and sentiment analysis, we are only left with type-token ratios and latent dirichlet allocation as plausible methods of deciphering which narrative a piece of text is from. In my opinion, these two models' results are not unique enough to effectively assign narrator to a random piece of text. Because of this, the answer to my question \"Can we use computational literary analysis to quantify the differences between each narrator in The Moonstone and have it recreate what human readers are able to do instinctively? If possible, how well will this work and what combination of features is best?\" is that no, CLA (through the models I explored today) are not particular effective at quantifying the differences between each narrator in _The Moonstone._ Were I insistent on trying to do so, I would most definitely pay attention to TTR and LDA and try to build from that."
   ]
  },
  {
   "cell_type": "markdown",
   "metadata": {},
   "source": [
    "## Works Cited\n",
    "\n",
    "Ganegedara, Thushan. “Intuitive Guide to Latent Dirichlet Allocation.” Medium, Towards Data Science, 27 Mar. 2019, towardsdatascience.com/light-on-math-machine-learning-intuitive-guide-to-latent-dirichlet-allocation-437c81220158.\n",
    "\n",
    "Hug, Josh. “Lecture 23 – Principal Component Analysis.” Data 100, 2019, www.ds100.org/su20/lecture/lec23/.\n",
    "\n",
    "Pandey, Parul. “Simplifying Sentiment Analysis Using VADER in Python (on Social Media Text).” Medium, Analytics Vidhya, 8 Nov. 2019, medium.com/analytics-vidhya/simplifying-social-media-sentiment-analysis-using-vader-in-python-f9e6ec6fc52f.\n",
    "\n",
    "“Sklearn.feature_extraction.Text.TfidfVectorizer¶.” Scikit, scikit-\n",
    "learn.org/stable/modules/generated/sklearn.feature_extraction.text.TfidfVectorizer.html.\n",
    "\n",
    "Thomas, Dax. Type-Token Ratios in One Teacher’s Classroom Talk: An Investigation of Lexical Complexity, 2005, www.birmingham.ac.uk/Documents/college-artslaw/cels/essays/languageteaching/DaxThomas2005a.pdf."
   ]
  }
 ],
 "metadata": {
  "kernelspec": {
   "display_name": "Python 3",
   "language": "python",
   "name": "python3"
  },
  "language_info": {
   "codemirror_mode": {
    "name": "ipython",
    "version": 3
   },
   "file_extension": ".py",
   "mimetype": "text/x-python",
   "name": "python",
   "nbconvert_exporter": "python",
   "pygments_lexer": "ipython3",
   "version": "3.7.6"
  }
 },
 "nbformat": 4,
 "nbformat_minor": 4
}
